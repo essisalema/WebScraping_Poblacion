{
  "cells": [
    {
      "cell_type": "markdown",
      "metadata": {
        "id": "view-in-github",
        "colab_type": "text"
      },
      "source": [
        "<a href=\"https://colab.research.google.com/github/essisalema/WebScraping_Poblacion/blob/main/PoblacionScrapyData.ipynb\" target=\"_parent\"><img src=\"https://colab.research.google.com/assets/colab-badge.svg\" alt=\"Open In Colab\"/></a>"
      ]
    },
    {
      "cell_type": "markdown",
      "metadata": {
        "id": "jzWzrU5q7qx_"
      },
      "source": [
        "<center><h1><strong>DATA EXTRACTION</strong></h1></center>\n",
        "\n",
        "\n",
        "* __authors__ = [@g30v4](https://github.com/g30v4)\n",
        "* __date__ = \"17/12/2023\"\n",
        "* __title__ = \"Extracción de datos de la Web (Scrapy)\"\n",
        "* __keywords__ = \"Scrapy, World, Population, Data extraction\""
      ]
    },
    {
      "cell_type": "markdown",
      "metadata": {
        "id": "Ry3wt5Fe7qyH"
      },
      "source": [
        "# 1. Pre Requisitos"
      ]
    },
    {
      "cell_type": "code",
      "execution_count": 12,
      "metadata": {
        "colab": {
          "base_uri": "https://localhost:8080/"
        },
        "id": "lGbjrBZ-7qyJ",
        "outputId": "cc672ea9-9fcc-4ce8-a5b1-b2eb146ae347"
      },
      "outputs": [
        {
          "output_type": "stream",
          "name": "stdout",
          "text": [
            "Requirement already satisfied: beautifulsoup4 in /usr/local/lib/python3.10/dist-packages (4.11.2)\n",
            "Requirement already satisfied: requests in /usr/local/lib/python3.10/dist-packages (2.31.0)\n",
            "Requirement already satisfied: pandas in /usr/local/lib/python3.10/dist-packages (1.5.3)\n",
            "Requirement already satisfied: soupsieve>1.2 in /usr/local/lib/python3.10/dist-packages (from beautifulsoup4) (2.5)\n",
            "Requirement already satisfied: charset-normalizer<4,>=2 in /usr/local/lib/python3.10/dist-packages (from requests) (3.3.2)\n",
            "Requirement already satisfied: idna<4,>=2.5 in /usr/local/lib/python3.10/dist-packages (from requests) (3.6)\n",
            "Requirement already satisfied: urllib3<3,>=1.21.1 in /usr/local/lib/python3.10/dist-packages (from requests) (2.0.7)\n",
            "Requirement already satisfied: certifi>=2017.4.17 in /usr/local/lib/python3.10/dist-packages (from requests) (2023.11.17)\n",
            "Requirement already satisfied: python-dateutil>=2.8.1 in /usr/local/lib/python3.10/dist-packages (from pandas) (2.8.2)\n",
            "Requirement already satisfied: pytz>=2020.1 in /usr/local/lib/python3.10/dist-packages (from pandas) (2023.3.post1)\n",
            "Requirement already satisfied: numpy>=1.21.0 in /usr/local/lib/python3.10/dist-packages (from pandas) (1.23.5)\n",
            "Requirement already satisfied: six>=1.5 in /usr/local/lib/python3.10/dist-packages (from python-dateutil>=2.8.1->pandas) (1.16.0)\n"
          ]
        }
      ],
      "source": [
        "# Instalación de las librerias o dependencias necesarias\n",
        "!pip install beautifulsoup4 requests pandas"
      ]
    },
    {
      "cell_type": "code",
      "execution_count": 13,
      "metadata": {
        "id": "nOW7WI2j7qyL"
      },
      "outputs": [],
      "source": [
        "# Load dependencies\n",
        "import json # modulo para trabajar con archivos JSON\n",
        "import requests # libreria para hacer peticiones HTTP\n",
        "import pandas as pd # libreria para procesar datos, proporciona funciones para analíticas\n",
        "from bs4 import BeautifulSoup as bs # Extraer información de paginas web\n"
      ]
    },
    {
      "cell_type": "markdown",
      "metadata": {
        "id": "30A8kHUP7qyM"
      },
      "source": [
        "# 2. Funciones para procesamiento de los datos"
      ]
    },
    {
      "cell_type": "code",
      "execution_count": 14,
      "metadata": {
        "id": "6EDVNKSE7qyN"
      },
      "outputs": [],
      "source": [
        "# Función que convierte una lista de elementos en un dataframe de pandas\n",
        "def rowsToDataFrame(rows):\n",
        "    df = pd.DataFrame(rows[1:], columns=rows[0])\n",
        "    return df"
      ]
    },
    {
      "cell_type": "code",
      "execution_count": 15,
      "metadata": {
        "id": "5TEXZ-km7qyN"
      },
      "outputs": [],
      "source": [
        "# Función para extraer los datos de una tabla HTML\n",
        "def processTableData(tbl):\n",
        "    rows = []\n",
        "    for child in tbl.find('tbody').children: # itera los items internos de la tabla [<tr>]\n",
        "        row = []\n",
        "        for td in child: # itera los items internos de la tabla [<td>]\n",
        "            try:\n",
        "                item = td.text.replace('\\n', '') # recupera el texto del elemento [<td>]\n",
        "                if item:\n",
        "                    row.append(item) # Agrega cada elemento de la fila\n",
        "            except:\n",
        "                continue\n",
        "        if len(row) > 0:\n",
        "            rows.append(row) # agrega todos los campos de una fila de la tabla\n",
        "    # print(rows)\n",
        "    return rows"
      ]
    },
    {
      "cell_type": "code",
      "execution_count": 16,
      "metadata": {
        "id": "vpKuu0li7qyO"
      },
      "outputs": [],
      "source": [
        "# Función para exxtrar la data de la URL y procesar el contenido HTML\n",
        "def processDataHTML(data):\n",
        "    soup = bs(data['sections'][1]['text'], 'html.parser') # Recupera el item del JSON y lo convierte en contenido HTML\n",
        "    tbl = soup.find_all('table')[0] # Recupera la tabla del contenido HTML\n",
        "    # print(tbl.prettify())\n",
        "    tblRows = processTableData(tbl) # Ejecuta la función apra porcesar el contenido de la Tabla\n",
        "    return tblRows"
      ]
    },
    {
      "cell_type": "markdown",
      "metadata": {
        "id": "iUAySAUr7qyP"
      },
      "source": [
        "# 3. Extracción de Información"
      ]
    },
    {
      "cell_type": "code",
      "execution_count": 17,
      "metadata": {
        "colab": {
          "base_uri": "https://localhost:8080/"
        },
        "id": "wOjusBn97qyP",
        "outputId": "9f74ad08-d633-41e4-986d-3b0d077fc200"
      },
      "outputs": [
        {
          "output_type": "stream",
          "name": "stdout",
          "text": [
            "       # Country (or dependency)  Population  (2023) Yearly  Change  \\\n",
            "0      1                   India          1428627663         0.81 %   \n",
            "1      2                   China          1425671352        -0.02 %   \n",
            "2      3           United States           339996563         0.50 %   \n",
            "3      4               Indonesia           277534122         0.74 %   \n",
            "4      5                Pakistan           240485658         1.98 %   \n",
            "..   ...                     ...                 ...            ...   \n",
            "229  230              Montserrat                4386        -0.09 %   \n",
            "230  231        Falkland Islands                3791         0.29 %   \n",
            "231  232                    Niue                1935         0.05 %   \n",
            "232  233                 Tokelau                1893         1.18 %   \n",
            "233  234                Holy See                 518         1.57 %   \n",
            "\n",
            "     Net  Change  Density  (P/Km²)  Land Area  (Km²)  Migrants  (net)  \\\n",
            "0       11454490               481           2973190          -486136   \n",
            "1        -215985               152           9388211          -310220   \n",
            "2        1706706                37           9147420           999700   \n",
            "3        2032783               153           1811570           -49997   \n",
            "4        4660796               312            770880          -165988   \n",
            "..           ...               ...               ...              ...   \n",
            "229           -4                44               100                0   \n",
            "230           11                 0             12170                0   \n",
            "231            1                 7               260                0   \n",
            "232           22               189                10                0   \n",
            "233            8              1295                 0                0   \n",
            "\n",
            "     Fert.  Rate  Med.  Age Urban  Pop % World  Share  \n",
            "0            2.0       28.0         36 %      17.76 %  \n",
            "1            1.2       39.0         65 %      17.72 %  \n",
            "2            1.7       38.0         83 %       4.23 %  \n",
            "3            2.1       30.0         59 %       3.45 %  \n",
            "4            3.3       21.0         35 %       2.99 %  \n",
            "..           ...        ...          ...          ...  \n",
            "229          1.6       44.0         11 %       0.00 %  \n",
            "230          1.6       40.0         62 %       0.00 %  \n",
            "231          2.4       36.0         41 %       0.00 %  \n",
            "232          2.6       27.0          0 %       0.00 %  \n",
            "233          NaN        NaN         N.A.       0.00 %  \n",
            "\n",
            "[234 rows x 12 columns]\n"
          ]
        }
      ],
      "source": [
        "\n",
        "# URL de la página web\n",
        "url = 'https://www.worldometers.info/world-population/population-by-country/'\n",
        "\n",
        "# Realizar la solicitud a la página y obtener el contenido HTML\n",
        "response = requests.get(url)\n",
        "html_content = response.content\n",
        "\n",
        "# Analizar el contenido HTML con BeautifulSoup\n",
        "soup = bs(html_content, 'html.parser')\n",
        "\n",
        "# Encontrar la tabla en la página (ajusta este selector según la estructura de la página)\n",
        "table = soup.find('table')\n",
        "\n",
        "# Procesar la tabla y convertirla a un DataFrame de Pandas\n",
        "df = pd.read_html(str(table))[0]\n",
        "\n",
        "# Mostrar el DataFrame\n",
        "print(df)\n",
        "\n"
      ]
    },
    {
      "cell_type": "code",
      "execution_count": 18,
      "metadata": {
        "colab": {
          "base_uri": "https://localhost:8080/"
        },
        "id": "g_gPZNd_7qyQ",
        "outputId": "fd270b29-9368-44dd-ff98-cdf2fd7a7f79"
      },
      "outputs": [
        {
          "output_type": "stream",
          "name": "stdout",
          "text": [
            "<class 'pandas.core.frame.DataFrame'>\n",
            "RangeIndex: 234 entries, 0 to 233\n",
            "Data columns (total 12 columns):\n",
            " #   Column                   Non-Null Count  Dtype  \n",
            "---  ------                   --------------  -----  \n",
            " 0   #                        234 non-null    int64  \n",
            " 1   Country (or dependency)  234 non-null    object \n",
            " 2   Population  (2023)       234 non-null    int64  \n",
            " 3   Yearly  Change           234 non-null    object \n",
            " 4   Net  Change              234 non-null    int64  \n",
            " 5   Density  (P/Km²)         234 non-null    int64  \n",
            " 6   Land Area  (Km²)         234 non-null    int64  \n",
            " 7   Migrants  (net)          234 non-null    int64  \n",
            " 8   Fert.  Rate              233 non-null    float64\n",
            " 9   Med.  Age                233 non-null    float64\n",
            " 10  Urban  Pop %             234 non-null    object \n",
            " 11  World  Share             234 non-null    object \n",
            "dtypes: float64(2), int64(6), object(4)\n",
            "memory usage: 22.1+ KB\n"
          ]
        }
      ],
      "source": [
        "# Inspeccionamos el tipo de dato de cada variable\n",
        "df.info()"
      ]
    },
    {
      "cell_type": "markdown",
      "metadata": {
        "id": "AGSB4iMg7qyR"
      },
      "source": [
        "# 4. Almacenamiento de los datos"
      ]
    },
    {
      "cell_type": "code",
      "execution_count": 19,
      "metadata": {
        "id": "VjKvoVXd7qyR"
      },
      "outputs": [],
      "source": [
        "# Guardamos las datos extraidos como archivo CSV\n",
        "# se puede aplcair otras opciones para guardar (Base de datos)\n",
        "df.to_csv('PaisesDelMundoPorPoblación2023.csv')"
      ]
    },
    {
      "cell_type": "markdown",
      "metadata": {
        "id": "McnXWffc7qyS"
      },
      "source": [
        "# 5. Referencias\n",
        "\n",
        "### DEPENDENCIES\n",
        "* [beautifulsoup4](https://pypi.org/project/BeautifulSoup/)\n",
        "* [requests](https://pypi.org/project/requests/)\n",
        "* [pandas](https://pypi.org/project/pandas/)\n",
        "\n",
        "### Urls de interes\n",
        "* [Estadisticas Mundial 1](https://www.wikiwand.com/es/Anexo:Tabla_estadística_de_la_Copa_Mundial_de_Fútbol)\n",
        "* [Estadisticas Mundial 2](https://www.sobrefutbol.com/mundiales/mundial_estadisticas.htm)\n",
        "* [Estadisticas Mundial 3](https://www.livefutbol.com/clasificacion_historica/wm/)\n",
        "* [Estadisticas Mundial 4](https://www.soccerstats.com/leagueview.asp?league=worldcup)\n",
        "* [Estadisticas Mundial 5](https://www.fixturesfootball.com/fifa-world-cup-all-time-stats/)"
      ]
    }
  ],
  "metadata": {
    "kernelspec": {
      "display_name": "Python 3.10.6 ('venv': venv)",
      "language": "python",
      "name": "python3"
    },
    "language_info": {
      "codemirror_mode": {
        "name": "ipython",
        "version": 3
      },
      "file_extension": ".py",
      "mimetype": "text/x-python",
      "name": "python",
      "nbconvert_exporter": "python",
      "pygments_lexer": "ipython3",
      "version": "3.10.6"
    },
    "orig_nbformat": 4,
    "vscode": {
      "interpreter": {
        "hash": "63a3268a9c480251705fc1d1eb8fccb5830447e9bc5d9833c7711c183db849b7"
      }
    },
    "colab": {
      "provenance": [],
      "include_colab_link": true
    }
  },
  "nbformat": 4,
  "nbformat_minor": 0
}